{
  "nbformat": 4,
  "nbformat_minor": 0,
  "metadata": {
    "colab": {
      "name": "1-pretrained-vectors.ipynb",
      "version": "0.3.2",
      "provenance": [],
      "include_colab_link": true
    },
    "kernelspec": {
      "name": "python3",
      "display_name": "Python 3"
    },
    "accelerator": "GPU"
  },
  "cells": [
    {
      "cell_type": "markdown",
      "metadata": {
        "id": "view-in-github",
        "colab_type": "text"
      },
      "source": [
        "<a href=\"https://colab.research.google.com/github/dpressel/dlss-tutorial/blob/master/1_pretrained_vectors.ipynb\" target=\"_parent\"><img src=\"https://colab.research.google.com/assets/colab-badge.svg\" alt=\"Open In Colab\"/></a>"
      ]
    },
    {
      "cell_type": "markdown",
      "metadata": {
        "id": "GkZM-nI_5Qug",
        "colab_type": "text"
      },
      "source": [
        "# Part I: Pre-trained embeddings\n",
        "\n",
        "We are going to build some PyTorch models that are commonly used for text classification.  We also need to build out some infrastructure to run these models.\n",
        "\n",
        "Once we have the models and the boilerplate stuff out of the way, we can see the impact of pre-trained embeddings for classification tasks. Pre-training methods like word2vec are context-limited language models whose goal is to predict a word given a fixed context, or a fixed context given a word. Pre-trained embeddings are particularly useful for smaller datasets.\n",
        "\n",
        "Most of this code is inspired or derived from [Baseline](https://github.com/dpressel/baseline/) (Pressel et al, 2018), an open source project for building and evaluating NLP models across a variety of NLP tasks.  For this tutorial, we will only concern ourselves with Text Classification using a few useful models.\n",
        "\n",
        "## Word Embeddings in NLP\n",
        "\n",
        "We start our models with what are called \"one-hot\" vectors.  This is notionally a sparse vector with length `|V|` where V is our vocabulary, and where only the word representated at this temporal location is a 1.  The rest are zeros.\n",
        "\n",
        "![onehot](https://www.tensorflow.org/images/feature_columns/categorical_column_with_vocabulary.jpg)\n",
        "\n",
        "These vectors are not truly represented as a vector, but as an array of indices (in PyTorch, they are `torch.LongTensor`s), one for each word's index in the vocab.  This representation is not particularly helpful in DNNs since we want continuous representations for each word.\n",
        "\n",
        "![indices](https://www.tensorflow.org/images/feature_columns/categorical_column_with_identity.jpg)\n",
        "\n",
        "There has been a large amount of research that has gone into building distributed representations for words through pre-training. Some widely used algorithms in NLP include Word2Vec, GloVe and fastText.\n",
        "\n",
        "The general idea of an embedding is that we want to project from a large one-hot vector to a compact, distributed representation with smaller dimensionality.  We can look at this as a matrix multiply between a one-hot vector `|V|` and a weight matrix to a lower dimension of size `|D|`.  Since only a single vector value in the one-hot vector is on at a time, this matrix multiply is simplified to an address lookup in that matrix.\n",
        "\n",
        "![LUT](https://cdn-images-1.medium.com/max/800/1*fZj1Hk1mhS5pIMv3ZrpLYw.png)\n",
        "\n",
        "\n",
        "\n",
        "In PyTorch, this is called an `nn.Embedding`.  In fact, in Torch7, this was called a `nn.LookupTable` which may have actually been a better name, but which seems to have fallen out of favor in DNN toolkits.  In this tutorial we are going to refer to multiple types of embeddings, and in this case, we are referring to word vectors, which are typically lookup table embeddings.\n",
        "\n",
        "Embeddings make up lowest layer of a typical DNN for text and we will feed their output to some pooling mechanism yielding a fixed length representation, followed by some number of fully connected layers.\n",
        "\n",
        "\n",
        "Before we begin, we will download some data that can be used for our experiments"
      ]
    },
    {
      "cell_type": "code",
      "metadata": {
        "id": "rIAhO5RRf4jL",
        "colab_type": "code",
        "colab": {}
      },
      "source": [
        "!wget https://www.dropbox.com/s/7jyi4pi894bh2qh/sst2.tar.gz?dl=1\n",
        "!tar -xzf 'sst2.tar.gz?dl=1'\n",
        "\n",
        "!wget https://www.dropbox.com/s/08km2ean8bkt7p3/trec.tar.gz?dl=1\n",
        "!tar -xzf 'trec.tar.gz?dl=1'\n",
        "\n",
        "!wget https://www.dropbox.com/s/699kgut7hdb5tg9/GoogleNews-vectors-negative300.bin.gz?dl=1\n",
        "!mv 'GoogleNews-vectors-negative300.bin.gz?dl=1' GoogleNews-vectors-negative300.bin.gz\n",
        "!gunzip GoogleNews-vectors-negative300.bin.gz"
      ],
      "execution_count": 0,
      "outputs": []
    },
    {
      "cell_type": "markdown",
      "metadata": {
        "id": "OiXst1zUqOa4",
        "colab_type": "text"
      },
      "source": [
        ""
      ]
    },
    {
      "cell_type": "markdown",
      "metadata": {
        "id": "u_ZR8A0x6XQh",
        "colab_type": "text"
      },
      "source": [
        "## First, lets do some fun stuff\n",
        "\n",
        "We will start by building out some models that we will reuse later in the tutorial.  First, we will build a convolutional neural network (CNN) that can classify text. Basically CNNs learn a kernel that can be used to filter images or text.  An example of 2D filtering*:\n",
        "\n",
        "![2D filtering](https://cdn-images-1.medium.com/max/1600/0*9J3MK1gd2zrFDzDN.gif)\n",
        "\n",
        "In the case of text filtering, we have a one-dimensional filter operation like this*:\n",
        "\n",
        "![1D filtering](http://cs231n.github.io/assets/cnn/stride.jpeg)\n",
        "\n",
        "This type of model has been used often in text, including by [Collobert et al 2011](https://ronan.collobert.com/pub/matos/2011_nlp_jmlr.pdf), but we will implement a multiple parallel filter variation of this introduced by [Kim 2014](https://www.aclweb.org/anthology/D14-1181).\n",
        "\n",
        "### Convolutional Neural Network for Text Classification\n",
        "\n",
        "We are using PyTorch, so every layer we have is going to inherit `nn.Module`.\n",
        "\n",
        "#### Convolutions (actually cross correlations)\n",
        "\n",
        "The first characteristic of this model is that we will have multiple convolutional filter lengths, and some number of filters associated with each length.  For each filter of length `K` convolved with a signal of length `T`, the output signal will be `T - K + 1`.  To handle the ends of the signal where the filter is hanging off (e.g. centered at 0), we will add some zero-padding.  So if we have a filter of length `K=3`, we want to zero-pad the temporal signal by a single pad value on both ends of the signal.\n",
        "\n",
        "We are going to support multiple parallel filters, so we can add a `torch.nn.Conv1d` for each filter length, followed by a `torch.nn.ReLU` activation layer.  Since we have more than one of these, we will create a `nn.ModuleList` to track them.  When we call `forward()`, the data will be oriented as $$B \\times C \\times T$$ where `B` is the batch size,  `C` is the number of hidden units and `T` is the temporal length of the vector.\n",
        "\n",
        "#### Pooling\n",
        "\n",
        "Both of the papers mentioned above doe max-over-time pooling over the features.  For each feature map in the vector, we simply select the maximum value for that feature map and concatenate all of these together.  Our $$B \\times C \\times T$$ vector is then going to be reduced along the time dimension to $$B \\times C$$\n",
        "\n",
        "*Images courtesy of http://cs231n.github.io/convolutional-networks/"
      ]
    },
    {
      "cell_type": "code",
      "metadata": {
        "id": "PTT1BSfB9kKO",
        "colab_type": "code",
        "colab": {}
      },
      "source": [
        "import numpy as np\n",
        "import torch\n",
        "import torch.nn as nn\n",
        "import torch.nn.functional as F\n",
        "from typing import List, Tuple\n",
        "import os\n",
        "import io\n",
        "import re\n",
        "import codecs\n",
        "from collections import Counter\n",
        "from torch.utils.data import DataLoader, TensorDataset"
      ],
      "execution_count": 0,
      "outputs": []
    },
    {
      "cell_type": "code",
      "metadata": {
        "id": "rD0S18xj9qi9",
        "colab_type": "code",
        "colab": {}
      },
      "source": [
        "class ParallelConv(nn.Module):\n",
        "\n",
        "    def __init__(self, input_dims, filters, dropout=0.5):\n",
        "        super().__init__()\n",
        "        convs = []        \n",
        "        self.output_dims = sum([t[1] for t in filters])\n",
        "        for (filter_length, output_dims) in filters:\n",
        "            pad = filter_length//2\n",
        "            conv = nn.Sequential(\n",
        "                nn.Conv1d(input_dims, output_dims, filter_length, padding=pad),\n",
        "                nn.ReLU()\n",
        "            )\n",
        "            convs.append(conv)\n",
        "        # Add the module so its managed correctly\n",
        "        self.convs = nn.ModuleList(convs)\n",
        "        self.conv_drop = nn.Dropout(dropout)\n",
        "\n",
        "\n",
        "    def forward(self, input_bct):\n",
        "        mots = []\n",
        "        for conv in self.convs:\n",
        "            # In Conv1d, data BxCxT, max over time\n",
        "            conv_out = conv(input_bct)\n",
        "            mot, _ = conv_out.max(2)\n",
        "            mots.append(mot)\n",
        "        mots = torch.cat(mots, 1)\n",
        "        return self.conv_drop(mots)\n",
        "\n",
        "class ConvClassifier(nn.Module):\n",
        "\n",
        "    def __init__(self, embeddings, num_classes, embed_dims,\n",
        "                 filters=[(2, 100), (3, 100), (4, 100)],\n",
        "                 dropout=0.5, hidden_units=[]):\n",
        "        super().__init__()\n",
        "        self.embeddings = embeddings\n",
        "        self.dropout = nn.Dropout(dropout)\n",
        "        self.convs = ParallelConv(embed_dims, filters, dropout)\n",
        "        \n",
        "        input_units = self.convs.output_dims\n",
        "        output_units = self.convs.output_dims\n",
        "        sequence = []\n",
        "        for h in hidden_units:\n",
        "            sequence.append(self.dropout(nn.Linear(input_units, h)))\n",
        "            input_units = h\n",
        "            output_units = h\n",
        "            \n",
        "        sequence.append(nn.Linear(output_units, num_classes))\n",
        "        self.outputs = nn.Sequential(*sequence)\n",
        "\n",
        "    def forward(self, inputs):\n",
        "        one_hots, lengths = inputs\n",
        "        embed = self.dropout(self.embeddings(one_hots))\n",
        "        embed = embed.transpose(1, 2).contiguous()\n",
        "        hidden = self.convs(embed)\n",
        "        linear = self.outputs(hidden)\n",
        "        return F.log_softmax(linear, dim=-1)\n"
      ],
      "execution_count": 0,
      "outputs": []
    },
    {
      "cell_type": "markdown",
      "metadata": {
        "id": "lBN5z1huBPqr",
        "colab_type": "text"
      },
      "source": [
        "### LSTM Model\n",
        "\n",
        "Our second model that we will explore uses Long Short-Term Memory (LSTM) units, which are a form of Recurrent Neural Networks.  These models tend to perform extremely well on NLP tasks.  Text classification is a simple case, where we give our inputs and take the final LSTM output as a form of pooling.  That looks like the **Many-to-One** image in this taxonomy from [Andrej Karpathy's 2015 blog post on using RNNs for character-level language modeling](https://karpathy.github.io/2015/05/21/rnn-effectiveness/)\n",
        "\n",
        "![Many-to-one LSTM](https://karpathy.github.io/assets/rnn/diags.jpeg)"
      ]
    },
    {
      "cell_type": "code",
      "metadata": {
        "id": "aeQUDe_BCOYV",
        "colab_type": "code",
        "colab": {}
      },
      "source": [
        "class LSTMClassifier(nn.Module):\n",
        "\n",
        "    def __init__(self, embeddings, num_classes, embed_dims, rnn_units, rnn_layers=1, dropout=0.5, hidden_units=[]):\n",
        "        super().__init__()\n",
        "        self.embeddings = embeddings\n",
        "        self.dropout = nn.Dropout(dropout)\n",
        "        self.rnn = torch.nn.LSTM(embed_dims,\n",
        "                                 rnn_units,\n",
        "                                 rnn_layers,\n",
        "                                 dropout=dropout,\n",
        "                                 bidirectional=False,\n",
        "                                 batch_first=False)\n",
        "        nn.init.orthogonal_(self.rnn.weight_hh_l0)\n",
        "        nn.init.orthogonal_(self.rnn.weight_ih_l0)\n",
        "        sequence = []\n",
        "        input_units = rnn_units\n",
        "        output_units = rnn_units\n",
        "        for h in hidden_units:\n",
        "            sequence.append(nn.Linear(input_units, h))\n",
        "            input_units = h\n",
        "            output_units = h\n",
        "            \n",
        "        sequence.append(nn.Linear(output_units, num_classes))\n",
        "        self.outputs = nn.Sequential(*sequence)\n",
        "        \n",
        "        \n",
        "    def forward(self, inputs):\n",
        "        one_hots, lengths = inputs\n",
        "        embed = self.dropout(self.embeddings(one_hots))\n",
        "        embed = embed.transpose(0, 1)\n",
        "        packed = torch.nn.utils.rnn.pack_padded_sequence(embed, lengths.tolist())\n",
        "        _, hidden = self.rnn(packed)\n",
        "        hidden = hidden[0].view(hidden[0].shape[1:])\n",
        "        linear = self.outputs(hidden)\n",
        "        return F.log_softmax(linear, dim=-1)\n"
      ],
      "execution_count": 0,
      "outputs": []
    },
    {
      "cell_type": "markdown",
      "metadata": {
        "id": "JK47ZmfPCgyz",
        "colab_type": "text"
      },
      "source": [
        "## Training our model\n",
        "\n",
        "To set our model up for training (and evaluation), we need a loss function, some metrics, and an optimizer, along with some training data.\n",
        "\n",
        "### Defining Metrics\n",
        "\n",
        "For classification problems, most things we would like to know can be defined in terms of a confusion matrix.\n",
        "\n",
        "![Confusion Matrix](https://scikit-learn.org/stable/_images/sphx_glr_plot_confusion_matrix_001.png)\n",
        "\n",
        "The class below implements a confusion matrix and provides metrics associated using it.  This implementation is taken from verbatim from Baseline (https://github.com/dpressel/baseline/blob/master/python/baseline/confusion.py)"
      ]
    },
    {
      "cell_type": "code",
      "metadata": {
        "id": "kDOWjUTGQaAH",
        "colab_type": "code",
        "colab": {}
      },
      "source": [
        "\n",
        "class ConfusionMatrix:\n",
        "    \"\"\"Confusion matrix with metrics\n",
        "\n",
        "    This class accumulates classification output, and tracks it in a confusion matrix.\n",
        "    Metrics are available that use the confusion matrix\n",
        "    \"\"\"\n",
        "    def __init__(self, labels):\n",
        "        \"\"\"Constructor with input labels\n",
        "\n",
        "        :param labels: Either a dictionary (`k=int,v=str`) or an array of labels\n",
        "        \"\"\"\n",
        "        if type(labels) is dict:\n",
        "            self.labels = []\n",
        "            for i in range(len(labels)):\n",
        "                self.labels.append(labels[i])\n",
        "        else:\n",
        "            self.labels = labels\n",
        "        nc = len(self.labels)\n",
        "        self._cm = np.zeros((nc, nc), dtype=np.int)\n",
        "\n",
        "    def add(self, truth, guess):\n",
        "        \"\"\"Add a single value to the confusion matrix based off `truth` and `guess`\n",
        "\n",
        "        :param truth: The real `y` value (or ground truth label)\n",
        "        :param guess: The guess for `y` value (or assertion)\n",
        "        \"\"\"\n",
        "\n",
        "        self._cm[truth, guess] += 1\n",
        "\n",
        "    def __str__(self):\n",
        "        values = []\n",
        "        width = max(8, max(len(x) for x in self.labels) + 1)\n",
        "        for i, label in enumerate([''] + self.labels):\n",
        "            values += [\"{:>{width}}\".format(label, width=width+1)]\n",
        "        values += ['\\n']\n",
        "        for i, label in enumerate(self.labels):\n",
        "            values += [\"{:>{width}}\".format(label, width=width+1)]\n",
        "            for j in range(len(self.labels)):\n",
        "                values += [\"{:{width}d}\".format(self._cm[i, j], width=width + 1)]\n",
        "            values += ['\\n']\n",
        "        values += ['\\n']\n",
        "        return ''.join(values)\n",
        "\n",
        "    def save(self, outfile):\n",
        "        ordered_fieldnames = OrderedDict([(\"labels\", None)] + [(l, None) for l in self.labels])\n",
        "        with open(outfile, 'w') as f:\n",
        "            dw = csv.DictWriter(f, delimiter=',', fieldnames=ordered_fieldnames)\n",
        "            dw.writeheader()\n",
        "            for index, row in enumerate(self._cm):\n",
        "                row_dict = {l: row[i] for i, l in enumerate(self.labels)}\n",
        "                row_dict.update({\"labels\": self.labels[index]})\n",
        "                dw.writerow(row_dict)\n",
        "\n",
        "    def reset(self):\n",
        "        \"\"\"Reset the matrix\n",
        "        \"\"\"\n",
        "        self._cm *= 0\n",
        "\n",
        "    def get_correct(self):\n",
        "        \"\"\"Get the diagonals of the confusion matrix\n",
        "\n",
        "        :return: (``int``) Number of correct classifications\n",
        "        \"\"\"\n",
        "        return self._cm.diagonal().sum()\n",
        "\n",
        "    def get_total(self):\n",
        "        \"\"\"Get total classifications\n",
        "\n",
        "        :return: (``int``) total classifications\n",
        "        \"\"\"\n",
        "        return self._cm.sum()\n",
        "\n",
        "    def get_acc(self):\n",
        "        \"\"\"Get the accuracy\n",
        "\n",
        "        :return: (``float``) accuracy\n",
        "        \"\"\"\n",
        "        return float(self.get_correct())/self.get_total()\n",
        "\n",
        "    def get_recall(self):\n",
        "        \"\"\"Get the recall\n",
        "\n",
        "        :return: (``float``) recall\n",
        "        \"\"\"\n",
        "        total = np.sum(self._cm, axis=1)\n",
        "        total = (total == 0) + total\n",
        "        return np.diag(self._cm) / total.astype(float)\n",
        "\n",
        "    def get_support(self):\n",
        "        return np.sum(self._cm, axis=1)\n",
        "\n",
        "    def get_precision(self):\n",
        "        \"\"\"Get the precision\n",
        "        :return: (``float``) precision\n",
        "        \"\"\"\n",
        "\n",
        "        total = np.sum(self._cm, axis=0)\n",
        "        total = (total == 0) + total\n",
        "        return np.diag(self._cm) / total.astype(float)\n",
        "\n",
        "    def get_mean_precision(self):\n",
        "        \"\"\"Get the mean precision across labels\n",
        "\n",
        "        :return: (``float``) mean precision\n",
        "        \"\"\"\n",
        "        return np.mean(self.get_precision())\n",
        "\n",
        "    def get_weighted_precision(self):\n",
        "        return np.sum(self.get_precision() * self.get_support())/float(self.get_total())\n",
        "\n",
        "    def get_mean_recall(self):\n",
        "        \"\"\"Get the mean recall across labels\n",
        "\n",
        "        :return: (``float``) mean recall\n",
        "        \"\"\"\n",
        "        return np.mean(self.get_recall())\n",
        "\n",
        "    def get_weighted_recall(self):\n",
        "        return np.sum(self.get_recall() * self.get_support())/float(self.get_total())\n",
        "\n",
        "    def get_weighted_f(self, beta=1):\n",
        "        return np.sum(self.get_class_f(beta) * self.get_support())/float(self.get_total())\n",
        "\n",
        "    def get_macro_f(self, beta=1):\n",
        "        \"\"\"Get the macro F_b, with adjustable beta (defaulting to F1)\n",
        "\n",
        "        :param beta: (``float``) defaults to 1 (F1)\n",
        "        :return: (``float``) macro F_b\n",
        "        \"\"\"\n",
        "        if beta < 0:\n",
        "            raise Exception('Beta must be greater than 0')\n",
        "        return np.mean(self.get_class_f(beta))\n",
        "\n",
        "    def get_class_f(self, beta=1):\n",
        "        p = self.get_precision()\n",
        "        r = self.get_recall()\n",
        "\n",
        "        b = beta*beta\n",
        "        d = (b * p + r)\n",
        "        d = (d == 0) + d\n",
        "\n",
        "        return (b + 1) * p * r / d\n",
        "\n",
        "    def get_f(self, beta=1):\n",
        "        \"\"\"Get 2 class F_b, with adjustable beta (defaulting to F1)\n",
        "\n",
        "        :param beta: (``float``) defaults to 1 (F1)\n",
        "        :return: (``float``) 2-class F_b\n",
        "        \"\"\"\n",
        "        p = self.get_precision()[1]\n",
        "        r = self.get_recall()[1]\n",
        "        if beta < 0:\n",
        "            raise Exception('Beta must be greater than 0')\n",
        "        d = (beta*beta * p + r)\n",
        "        if d == 0:\n",
        "            return 0\n",
        "        return (beta*beta + 1) * p * r / d\n",
        "\n",
        "    def get_all_metrics(self):\n",
        "        \"\"\"Make a map of metrics suitable for reporting, keyed by metric name\n",
        "\n",
        "        :return: (``dict``) Map of metrics keyed by metric names\n",
        "        \"\"\"\n",
        "        metrics = {'acc': self.get_acc()}\n",
        "        # If 2 class, assume second class is positive AKA 1\n",
        "        if len(self.labels) == 2:\n",
        "            metrics['precision'] = self.get_precision()[1]\n",
        "            metrics['recall'] = self.get_recall()[1]\n",
        "            metrics['f1'] = self.get_f(1)\n",
        "        else:\n",
        "            metrics['mean_precision'] = self.get_mean_precision()\n",
        "            metrics['mean_recall'] = self.get_mean_recall()\n",
        "            metrics['macro_f1'] = self.get_macro_f(1)\n",
        "            metrics['weighted_precision'] = self.get_weighted_precision()\n",
        "            metrics['weighted_recall'] = self.get_weighted_recall()\n",
        "            metrics['weighted_f1'] = self.get_weighted_f(1)\n",
        "        return metrics\n",
        "\n",
        "    def add_batch(self, truth, guess):\n",
        "        \"\"\"Add a batch of data to the confusion matrix\n",
        "\n",
        "        :param truth: The truth tensor\n",
        "        :param guess: The guess tensor\n",
        "        :return:\n",
        "        \"\"\"\n",
        "        for truth_i, guess_i in zip(truth, guess):\n",
        "            self.add(truth_i, guess_i)\n"
      ],
      "execution_count": 0,
      "outputs": []
    },
    {
      "cell_type": "markdown",
      "metadata": {
        "id": "IOfC-eQR92j9",
        "colab_type": "text"
      },
      "source": [
        "Our `Trainer` is simple, but it gets the job done.  We will use PyTorch's `DataLoader` to feed our batches to the trainer.  The `run()` method cycles a single epoch. \n",
        "For every batch, we will do a stochastic gradient minibatch update, and we return the loss and the predictions and ground truth back to the `run()` method for tabulation"
      ]
    },
    {
      "cell_type": "code",
      "metadata": {
        "id": "FaQ2BraAR-qI",
        "colab_type": "code",
        "colab": {}
      },
      "source": [
        "\n",
        "class Trainer:\n",
        "    def __init__(self, optimizer: torch.optim.Optimizer):\n",
        "        self.optimizer = optimizer\n",
        "\n",
        "    def run(self, model, labels, train, loss, batch_size): \n",
        "        model.train()       \n",
        "        train_loader = DataLoader(train, batch_size=batch_size, shuffle=True)\n",
        "\n",
        "        cm = ConfusionMatrix(labels)\n",
        "\n",
        "        for batch in train_loader:\n",
        "            loss_value, y_pred, y_actual = self.update(model, loss, batch)\n",
        "            _, best = y_pred.max(1)\n",
        "            yt = y_actual.cpu().int().numpy()\n",
        "            yp = best.cpu().int().numpy()\n",
        "            cm.add_batch(yt, yp)\n",
        "\n",
        "        print(cm.get_all_metrics())\n",
        "        return cm\n",
        "    \n",
        "    def update(self, model, loss, batch):\n",
        "        self.optimizer.zero_grad()\n",
        "        x, lengths, y = batch\n",
        "        lengths, perm_idx = lengths.sort(0, descending=True)\n",
        "        x_sorted = x[perm_idx]\n",
        "        y_sorted = y[perm_idx]\n",
        "        y_sorted = y_sorted.to('cuda:0')\n",
        "        inputs = (x_sorted.to('cuda:0'), lengths)\n",
        "        y_pred = model(inputs)\n",
        "        loss_value = loss(y_pred, y_sorted)\n",
        "        loss_value.backward()\n",
        "        self.optimizer.step()\n",
        "        return loss_value.item(), y_pred, y_sorted"
      ],
      "execution_count": 0,
      "outputs": []
    },
    {
      "cell_type": "markdown",
      "metadata": {
        "id": "kTV2epU5SZlg",
        "colab_type": "text"
      },
      "source": [
        "After training a epoch, we would like to test the validation performance.  Our evaluator class is similar to our `Trainer`, but it doesnt update our model -- it just gives us a way to evaluate the model on data"
      ]
    },
    {
      "cell_type": "code",
      "metadata": {
        "id": "baYbdBXqSoa6",
        "colab_type": "code",
        "colab": {}
      },
      "source": [
        "\n",
        "class Evaluator:\n",
        "    def __init__(self):\n",
        "        pass\n",
        "\n",
        "    def run(self, model, labels, dataset, batch_size=1):\n",
        "        model.eval()\n",
        "        valid_loader = DataLoader(dataset, batch_size=batch_size)\n",
        "        cm = ConfusionMatrix(labels)\n",
        "        for batch in valid_loader:\n",
        "            y_pred, y_actual = self.inference(model, batch)\n",
        "            _, best = y_pred.max(1)\n",
        "            yt = y_actual.cpu().int().numpy()\n",
        "            yp = best.cpu().int().numpy()\n",
        "            cm.add_batch(yt, yp)\n",
        "        return cm\n",
        "\n",
        "    def inference(self, model, batch):\n",
        "        with torch.no_grad():\n",
        "            x, lengths, y = batch\n",
        "            lengths, perm_idx = lengths.sort(0, descending=True)\n",
        "            x_sorted = x[perm_idx]\n",
        "            y_sorted = y[perm_idx]\n",
        "            y_sorted = y_sorted.to('cuda:0')\n",
        "            inputs = (x_sorted.to('cuda:0'), lengths)\n",
        "            y_pred = model(inputs)\n",
        "            return y_pred, y_sorted\n"
      ],
      "execution_count": 0,
      "outputs": []
    },
    {
      "cell_type": "markdown",
      "metadata": {
        "id": "ySvFi6OVRnf5",
        "colab_type": "text"
      },
      "source": [
        "We can encapsulate training multiple epochs and testing in a single function.   The best model is defined in terms of some metric -- here accuracy, and we only save the checkpoints when we improve on the model.  This is called early stopping, and is particularly helpful on smaller datasets"
      ]
    },
    {
      "cell_type": "code",
      "metadata": {
        "id": "mOhAZmODS3N8",
        "colab_type": "code",
        "colab": {}
      },
      "source": [
        "def fit(model, labels, optimizer, loss, epochs, batch_size, train, valid, test):\n",
        "\n",
        "    trainer = Trainer(optimizer)\n",
        "    evaluator = Evaluator()\n",
        "    best_acc = 0.0\n",
        "    \n",
        "    for epoch in range(epochs):\n",
        "        print('EPOCH {}'.format(epoch + 1))\n",
        "        print('=================================')\n",
        "        print('Training Results')\n",
        "        cm = trainer.run(model, labels, train, loss, batch_size)\n",
        "        print('Validation Results')\n",
        "        cm = evaluator.run(model, labels, valid)\n",
        "        print(cm.get_all_metrics())\n",
        "        if cm.get_acc() > best_acc:\n",
        "            print('New best model {:.2f}'.format(cm.get_acc()))\n",
        "            best_acc = cm.get_acc()\n",
        "            torch.save(model.state_dict(), './checkpoint.pth')\n",
        "    if test:\n",
        "        model.load_state_dict(torch.load('./checkpoint.pth'))\n",
        "        cm = evaluator.run(model, labels, test)\n",
        "        print('Final result')\n",
        "        print(cm.get_all_metrics())\n",
        "    return cm.get_acc()"
      ],
      "execution_count": 0,
      "outputs": []
    },
    {
      "cell_type": "markdown",
      "metadata": {
        "id": "mp1tjK47TCe_",
        "colab_type": "text"
      },
      "source": [
        "### A Reader for our Data\n",
        "\n",
        "We need a reader to load our data from files and put it into a `Dataset`.\n",
        "\n",
        "The reader needs to perform a few steps\n",
        "\n",
        "* **read in sentences and labels**: it should convert the sentences into tokens and record a vocabulary of the labels\n",
        "* **vectorize tokens**: it should convert tokens into tensors that comprise rows in our `TensorDataset`\n",
        "* **tabulate the vocabulary**: if no vectorizer is provided, we need to build a vocab of attested words.  If a vectorizer is provided upfront, we dont need this step"
      ]
    },
    {
      "cell_type": "code",
      "metadata": {
        "id": "Uzf5KiQ1UFRU",
        "colab_type": "code",
        "colab": {}
      },
      "source": [
        "\n",
        "def whitespace_tokenizer(words: str) -> List[str]:\n",
        "    return words.split() \n",
        "\n",
        "def sst2_tokenizer(words: str) -> List[str]:\n",
        "    REPLACE = { \"'s\": \" 's \",\n",
        "                \"'ve\": \" 've \",\n",
        "                \"n't\": \" n't \",\n",
        "                \"'re\": \" 're \",\n",
        "                \"'d\": \" 'd \",\n",
        "                \"'ll\": \" 'll \",\n",
        "                \",\": \" , \",\n",
        "                \"!\": \" ! \",\n",
        "                }\n",
        "    words = words.lower()\n",
        "    words = re.sub(r\"[^A-Za-z0-9(),!?\\'\\`]\", \" \", words)\n",
        "    for k, v in REPLACE.items():\n",
        "            words = words.replace(k, v)\n",
        "    return [w.strip() for w in words.split()]\n",
        "\n",
        "\n",
        "class Reader:\n",
        "\n",
        "    def __init__(self, files, lowercase=True, min_freq=0,\n",
        "                 tokenizer=sst2_tokenizer, vectorizer=None):\n",
        "        self.lowercase = lowercase\n",
        "        self.tokenizer = tokenizer\n",
        "        build_vocab = vectorizer is None\n",
        "        self.vectorizer = vectorizer if vectorizer else self._vectorizer\n",
        "        x = Counter()\n",
        "        y = Counter()\n",
        "        for file_name in files:\n",
        "            if file_name is None:\n",
        "                continue\n",
        "            with codecs.open(file_name, encoding='utf-8', mode='r') as f:\n",
        "                for line in f:\n",
        "                    words = line.split()\n",
        "                    y.update(words[0])\n",
        "\n",
        "                    if build_vocab:\n",
        "                        words = self.tokenizer(' '.join(words[1:]))\n",
        "                        words = words if not self.lowercase else [w.lower() for w in words]\n",
        "                        x.update(words)\n",
        "        self.labels = list(y.keys())\n",
        "\n",
        "        if build_vocab:\n",
        "            x = dict(filter(lambda cnt: cnt[1] >= min_freq, x.items()))\n",
        "            alpha = list(x.keys())\n",
        "            alpha.sort()\n",
        "            self.vocab = {w: i+1 for i, w in enumerate(alpha)}\n",
        "            self.vocab['[PAD]'] = 0\n",
        "\n",
        "        self.labels.sort()\n",
        "\n",
        "    def _vectorizer(self, words: List[str]) -> List[int]:\n",
        "        return [self.vocab.get(w, 0) for w in words]\n",
        "\n",
        "    def load(self, filename: str) -> TensorDataset:\n",
        "        label2index = {l: i for i, l in enumerate(self.labels)}\n",
        "        xs = []\n",
        "        lengths = []\n",
        "        ys = []\n",
        "        with codecs.open(filename, encoding='utf-8', mode='r') as f:\n",
        "            for line in f:\n",
        "                words = line.split()\n",
        "                ys.append(label2index[words[0]])\n",
        "                words = self.tokenizer(' '.join(words[1:]))\n",
        "                words = words if not self.lowercase else [w.lower() for w in words]\n",
        "                vec = self.vectorizer(words)\n",
        "                lengths.append(len(vec))\n",
        "                xs.append(torch.tensor(vec, dtype=torch.long))\n",
        "        x_tensor = torch.nn.utils.rnn.pad_sequence(xs, batch_first=True)\n",
        "        lengths_tensor = torch.tensor(lengths, dtype=torch.long)\n",
        "        y_tensor = torch.tensor(ys, dtype=torch.long)\n",
        "        return TensorDataset(x_tensor, lengths_tensor, y_tensor)\n"
      ],
      "execution_count": 0,
      "outputs": []
    },
    {
      "cell_type": "markdown",
      "metadata": {
        "id": "3fMHlMQCUslk",
        "colab_type": "text"
      },
      "source": [
        "### Pre-trained Embeddings\n",
        "\n",
        "We would like to investigate how pre-training embeddings helps our models improve.  To do this, we need a mechanism to load in pre-trained embeddings and convert them into PyTorch's `nn.Embedding` object.  Specifically, we wish to support `word2vec`, `GloVe` and `fastText` embeddings. Rest-assured, these are simple file formats, and you do not need any 3rd party dependencies to read them in!  We will do it by hand.\n",
        "\n",
        "For binary files, the first line contains 2 numbers delimited by a space.  The first number is the vocab size and the second is the embedding dimension.  We then read each line, splitting it by a space and reading the first portion as the vocabulary (token) and the second portion as a binary vector.\n",
        "\n",
        "For text files, the first line may contain 2 numbers as in the binary file, but for `GloVe` files, this is omitted.  We can check if the first line contains the dimensions, and if it doesnt, we can just read in the first vector to figure out its dimension (again its space delimited, but the vector is also space delimited, so we split along the first space to find the token).\n",
        "\n",
        "Notice that in this code, we have already created an alphabet that we will pass in for each key, so if that word is present in the embedding file, we will use its value, otherwise, we will initialize the vector randomly."
      ]
    },
    {
      "cell_type": "code",
      "metadata": {
        "id": "w2nKdPwIVbFn",
        "colab_type": "code",
        "colab": {}
      },
      "source": [
        "def init_embeddings(vocab_size, embed_dim, unif):\n",
        "    return np.random.uniform(-unif, unif, (vocab_size, embed_dim))\n",
        "    \n",
        "\n",
        "class EmbeddingsReader:\n",
        "\n",
        "    @staticmethod\n",
        "    def from_text(filename, vocab, unif=0.25):\n",
        "        \n",
        "        with io.open(filename, \"r\", encoding=\"utf-8\") as f:\n",
        "            for i, line in enumerate(f):\n",
        "                line = line.rstrip(\"\\n \")\n",
        "                values = line.split(\" \")\n",
        "\n",
        "                if i == 0:\n",
        "                    # fastText style\n",
        "                    if len(values) == 2:\n",
        "                        weight = init_embeddings(len(vocab), values[1], unif)\n",
        "                        continue\n",
        "                    # glove style\n",
        "                    else:\n",
        "                        weight = init_embeddings(len(vocab), len(values[1:]), unif)\n",
        "                word = values[0]\n",
        "                if word in vocab:\n",
        "                    vec = np.asarray(values[1:], dtype=np.float32)\n",
        "                    weight[vocab[word]] = vec\n",
        "        if '[PAD]' in vocab:\n",
        "            weight[vocab['[PAD]']] = 0.0\n",
        "        \n",
        "        embeddings = nn.Embedding(weight.shape[0], weight.shape[1])\n",
        "        embeddings.weight = nn.Parameter(torch.from_numpy(weight).float())\n",
        "        return embeddings, weight.shape[1]\n",
        "    \n",
        "    @staticmethod\n",
        "    def from_binary(filename, vocab, unif=0.25):\n",
        "        def read_word(f):\n",
        "\n",
        "            s = bytearray()\n",
        "            ch = f.read(1)\n",
        "\n",
        "            while ch != b' ':\n",
        "                s.extend(ch)\n",
        "                ch = f.read(1)\n",
        "            s = s.decode('utf-8')\n",
        "            # Only strip out normal space and \\n not other spaces which are words.\n",
        "            return s.strip(' \\n')\n",
        "\n",
        "        vocab_size = len(vocab)\n",
        "        with io.open(filename, \"rb\") as f:\n",
        "            header = f.readline()\n",
        "            file_vocab_size, embed_dim = map(int, header.split())\n",
        "            weight = init_embeddings(len(vocab), embed_dim, unif)\n",
        "            if '[PAD]' in vocab:\n",
        "                weight[vocab['[PAD]']] = 0.0\n",
        "            width = 4 * embed_dim\n",
        "            for i in range(file_vocab_size):\n",
        "                word = read_word(f)\n",
        "                raw = f.read(width)\n",
        "                if word in vocab:\n",
        "                    vec = np.fromstring(raw, dtype=np.float32)\n",
        "                    weight[vocab[word]] = vec\n",
        "        embeddings = nn.Embedding(weight.shape[0], weight.shape[1])\n",
        "        embeddings.weight = nn.Parameter(torch.from_numpy(weight).float())\n",
        "        return embeddings, embed_dim\n",
        "\n"
      ],
      "execution_count": 0,
      "outputs": []
    },
    {
      "cell_type": "markdown",
      "metadata": {
        "id": "SOeo4W0zSvws",
        "colab_type": "text"
      },
      "source": [
        "### Now to run some stuff!\n",
        "\n",
        "We did a lot of work to set things up, but its pretty boilerplate and we will reuse a lot of it.  So far, we made 2 classifiers we can run along with code to train and evaluate our models, and a reader to load our data.\n"
      ]
    },
    {
      "cell_type": "code",
      "metadata": {
        "id": "ahoBQQ-LddMr",
        "colab_type": "code",
        "colab": {}
      },
      "source": [
        "BASE = 'sst2'\n",
        "TRAIN = os.path.join(BASE, 'stsa.binary.phrases.train')\n",
        "VALID = os.path.join(BASE, 'stsa.binary.dev')\n",
        "TEST = os.path.join(BASE, 'stsa.binary.test')\n",
        "PRETRAINED_EMBEDDINGS_FILE = 'GoogleNews-vectors-negative300.bin'\n",
        "\n"
      ],
      "execution_count": 0,
      "outputs": []
    },
    {
      "cell_type": "markdown",
      "metadata": {
        "id": "kbWM-ycVeL5b",
        "colab_type": "text"
      },
      "source": [
        "Lets read in our datasets:"
      ]
    },
    {
      "cell_type": "code",
      "metadata": {
        "id": "tCwkXTO7eQEx",
        "colab_type": "code",
        "colab": {}
      },
      "source": [
        "r = Reader((TRAIN, VALID, TEST,))\n",
        "train = r.load(TRAIN)\n",
        "valid = r.load(VALID)\n",
        "test = r.load(TEST)"
      ],
      "execution_count": 0,
      "outputs": []
    },
    {
      "cell_type": "markdown",
      "metadata": {
        "id": "tJXsq3-xiATu",
        "colab_type": "text"
      },
      "source": [
        "## Model trained with randomly initialized embeddings\n",
        "\n",
        "First, we are going to train a model without any pretrained embeddings for 2 epochs.  During training, we will see the training and validation performance, and after the final epoch, we will see the results from the best model trained on these 2 epochs. "
      ]
    },
    {
      "cell_type": "code",
      "metadata": {
        "id": "okeGF78yh3y_",
        "colab_type": "code",
        "outputId": "deebe0ee-8d4c-4227-aca5-1138b7776fa9",
        "colab": {
          "base_uri": "https://localhost:8080/",
          "height": 323
        }
      },
      "source": [
        "embed_dim = 300\n",
        "embeddings = nn.Embedding(len(r.vocab), embed_dim)\n",
        "model  = ConvClassifier(embeddings, len(r.labels), embed_dim)\n",
        "\n",
        "num_params = sum(p.numel() for p in model.parameters() if p.requires_grad)\n",
        "print(f\"Model has {num_params} parameters\") \n",
        "\n",
        "\n",
        "model.to('cuda:0')\n",
        "loss = torch.nn.NLLLoss()\n",
        "loss = loss.to('cuda:0')\n",
        "\n",
        "learnable_params = [p for p in model.parameters() if p.requires_grad]\n",
        "optimizer = torch.optim.Adadelta(learnable_params, lr=1.0)\n",
        "\n",
        "fit(model, r.labels, optimizer, loss, 2, 50, train, valid, test)\n"
      ],
      "execution_count": 0,
      "outputs": [
        {
          "output_type": "stream",
          "text": [
            "Model has 5442302 parameters\n",
            "EPOCH 1\n",
            "=================================\n",
            "Training Results\n",
            "{'acc': 0.5891555463156664, 'precision': 0.6152263374485597, 'recall': 0.6721645093352895, 'f1': 0.6424363048321252}\n",
            "Validation Results\n",
            "{'acc': 0.5447247706422018, 'precision': 0.5280095351609059, 'recall': 0.9977477477477478, 'f1': 0.6905689789555729}\n",
            "New best model 0.54\n",
            "EPOCH 2\n",
            "=================================\n",
            "Training Results\n",
            "{'acc': 0.6331778433232417, 'precision': 0.6496798975672216, 'recall': 0.720414586241984, 'f1': 0.6832213108315848}\n",
            "Validation Results\n",
            "{'acc': 0.6204128440366973, 'precision': 0.834319526627219, 'recall': 0.31756756756756754, 'f1': 0.46003262642740617}\n",
            "New best model 0.62\n",
            "Final result\n",
            "{'acc': 0.6199890170236134, 'precision': 0.8108882521489972, 'recall': 0.31133113311331134, 'f1': 0.4499205087440381}\n"
          ],
          "name": "stdout"
        },
        {
          "output_type": "execute_result",
          "data": {
            "text/plain": [
              "0.6199890170236134"
            ]
          },
          "metadata": {
            "tags": []
          },
          "execution_count": 69
        }
      ]
    },
    {
      "cell_type": "markdown",
      "metadata": {
        "id": "a54pDMAQjXY-",
        "colab_type": "text"
      },
      "source": [
        "Yikes, thats not very encouraging!  What about our LSTM?"
      ]
    },
    {
      "cell_type": "code",
      "metadata": {
        "id": "f8s4lSIqjc6G",
        "colab_type": "code",
        "outputId": "85b1b118-2df7-4764-a902-1aaf2cd7569c",
        "colab": {
          "base_uri": "https://localhost:8080/",
          "height": 377
        }
      },
      "source": [
        "embed_dim = 300\n",
        "embeddings = nn.Embedding(len(r.vocab), embed_dim)\n",
        "model  = LSTMClassifier(embeddings, len(r.labels), embed_dim, 100, hidden_units=[100])\n",
        "\n",
        "num_params = sum(p.numel() for p in model.parameters() if p.requires_grad)\n",
        "print(f\"Model has {num_params} parameters\") \n",
        "\n",
        "\n",
        "model.to('cuda:0')\n",
        "loss = torch.nn.NLLLoss()\n",
        "loss = loss.to('cuda:0')\n",
        "\n",
        "learnable_params = [p for p in model.parameters() if p.requires_grad]\n",
        "optimizer = torch.optim.Adadelta(learnable_params, lr=1.0)\n",
        "\n",
        "fit(model, r.labels, optimizer, loss, 2, 50, train, valid, test)\n"
      ],
      "execution_count": 0,
      "outputs": [
        {
          "output_type": "stream",
          "text": [
            "/usr/local/lib/python3.6/dist-packages/torch/nn/modules/rnn.py:54: UserWarning: dropout option adds dropout after all but last recurrent layer, so non-zero dropout expects num_layers greater than 1, but got dropout=0.5 and num_layers=1\n",
            "  \"num_layers={}\".format(dropout, num_layers))\n"
          ],
          "name": "stderr"
        },
        {
          "output_type": "stream",
          "text": [
            "Model has 5342502 parameters\n",
            "EPOCH 1\n",
            "=================================\n",
            "Training Results\n",
            "{'acc': 0.6401164226036564, 'precision': 0.6469187618547964, 'recall': 0.7586549610733808, 'f1': 0.6983456222703855}\n",
            "Validation Results\n",
            "{'acc': 0.7603211009174312, 'precision': 0.7701149425287356, 'recall': 0.7545045045045045, 'f1': 0.7622298065984071}\n",
            "New best model 0.76\n",
            "EPOCH 2\n",
            "=================================\n",
            "Training Results\n",
            "{'acc': 0.7458582918621119, 'precision': 0.7557112603073041, 'recall': 0.7937480773326392, 'f1': 0.7742627964683478}\n",
            "Validation Results\n",
            "{'acc': 0.768348623853211, 'precision': 0.7965686274509803, 'recall': 0.7319819819819819, 'f1': 0.7629107981220656}\n",
            "New best model 0.77\n",
            "Final result\n",
            "{'acc': 0.7693574958813838, 'precision': 0.7794285714285715, 'recall': 0.7502750275027503, 'f1': 0.7645739910313901}\n"
          ],
          "name": "stdout"
        },
        {
          "output_type": "execute_result",
          "data": {
            "text/plain": [
              "0.7693574958813838"
            ]
          },
          "metadata": {
            "tags": []
          },
          "execution_count": 70
        }
      ]
    },
    {
      "cell_type": "markdown",
      "metadata": {
        "id": "tHtNnvvoj22N",
        "colab_type": "text"
      },
      "source": [
        "## Same model with pre-trained word embeddings\n",
        "\n",
        "The models below are identical to the ones above, the only difference is that we are going to initialize the embeddings using our previously defined `EmbeddingsReader`.  First lets take a look at our CNN model again"
      ]
    },
    {
      "cell_type": "code",
      "metadata": {
        "id": "cEzWqC2fkNSz",
        "colab_type": "code",
        "outputId": "2cd05159-e90e-4f94-f4a6-d87187d5e70d",
        "colab": {
          "base_uri": "https://localhost:8080/",
          "height": 340
        }
      },
      "source": [
        "embeddings, embed_dim = EmbeddingsReader.from_binary(PRETRAINED_EMBEDDINGS_FILE, r.vocab)\n",
        "model  = ConvClassifier(embeddings, len(r.labels), embed_dim)\n",
        "num_params = sum(p.numel() for p in model.parameters() if p.requires_grad)\n",
        "print(f\"Model has {num_params} parameters\") \n",
        "\n",
        "\n",
        "model.to('cuda:0')\n",
        "loss = torch.nn.NLLLoss()\n",
        "loss = loss.to('cuda:0')\n",
        "\n",
        "learnable_params = [p for p in model.parameters() if p.requires_grad]\n",
        "optimizer = torch.optim.Adadelta(learnable_params, lr=1.0)\n",
        "\n",
        "fit(model, r.labels, optimizer, loss, 2, 50, train, valid, test)"
      ],
      "execution_count": 0,
      "outputs": [
        {
          "output_type": "stream",
          "text": [
            "/usr/local/lib/python3.6/dist-packages/ipykernel_launcher.py:60: DeprecationWarning: The binary mode of fromstring is deprecated, as it behaves surprisingly on unicode inputs. Use frombuffer instead\n"
          ],
          "name": "stderr"
        },
        {
          "output_type": "stream",
          "text": [
            "Model has 5442302 parameters\n",
            "EPOCH 1\n",
            "=================================\n",
            "Training Results\n",
            "{'acc': 0.8331102766336196, 'precision': 0.8412967303274314, 'recall': 0.8579000922880333, 'f1': 0.849517293092136}\n",
            "Validation Results\n",
            "{'acc': 0.8371559633027523, 'precision': 0.9059139784946236, 'recall': 0.759009009009009, 'f1': 0.8259803921568627}\n",
            "New best model 0.84\n",
            "EPOCH 2\n",
            "=================================\n",
            "Training Results\n",
            "{'acc': 0.8799521835734982, 'precision': 0.8864338545080048, 'recall': 0.8961877943160037, 'f1': 0.8912841391807773}\n",
            "Validation Results\n",
            "{'acc': 0.8543577981651376, 'precision': 0.8468271334792122, 'recall': 0.8716216216216216, 'f1': 0.8590455049944506}\n",
            "New best model 0.85\n",
            "Final result\n",
            "{'acc': 0.8643602416254805, 'precision': 0.8363821138211383, 'recall': 0.9053905390539054, 'f1': 0.8695192815636557}\n"
          ],
          "name": "stdout"
        },
        {
          "output_type": "execute_result",
          "data": {
            "text/plain": [
              "0.8643602416254805"
            ]
          },
          "metadata": {
            "tags": []
          },
          "execution_count": 73
        }
      ]
    },
    {
      "cell_type": "markdown",
      "metadata": {
        "id": "QcnajM3klDx9",
        "colab_type": "text"
      },
      "source": [
        "Much better!  And now the LSTM!"
      ]
    },
    {
      "cell_type": "code",
      "metadata": {
        "id": "zqJ12jfAkxoX",
        "colab_type": "code",
        "outputId": "ca34be7f-44c0-4469-bb01-2af59825dade",
        "colab": {
          "base_uri": "https://localhost:8080/",
          "height": 377
        }
      },
      "source": [
        "model  = LSTMClassifier(embeddings, len(r.labels), embed_dim, 100, hidden_units=[100])\n",
        "\n",
        "num_params = sum(p.numel() for p in model.parameters() if p.requires_grad)\n",
        "print(f\"Model has {num_params} parameters\") \n",
        "\n",
        "\n",
        "model.to('cuda:0')\n",
        "loss = torch.nn.NLLLoss()\n",
        "loss = loss.to('cuda:0')\n",
        "\n",
        "learnable_params = [p for p in model.parameters() if p.requires_grad]\n",
        "optimizer = torch.optim.Adadelta(learnable_params, lr=1.0)\n",
        "\n",
        "fit(model, r.labels, optimizer, loss, 2, 50, train, valid, test)"
      ],
      "execution_count": 0,
      "outputs": [
        {
          "output_type": "stream",
          "text": [
            "/usr/local/lib/python3.6/dist-packages/torch/nn/modules/rnn.py:54: UserWarning: dropout option adds dropout after all but last recurrent layer, so non-zero dropout expects num_layers greater than 1, but got dropout=0.5 and num_layers=1\n",
            "  \"num_layers={}\".format(dropout, num_layers))\n"
          ],
          "name": "stderr"
        },
        {
          "output_type": "stream",
          "text": [
            "Model has 5342502 parameters\n",
            "EPOCH 1\n",
            "=================================\n",
            "Training Results\n",
            "{'acc': 0.861566247839815, 'precision': 0.8750444998220007, 'recall': 0.8724768688326747, 'f1': 0.8737587980188164}\n",
            "Validation Results\n",
            "{'acc': 0.8520642201834863, 'precision': 0.8343949044585988, 'recall': 0.8851351351351351, 'f1': 0.8590163934426229}\n",
            "New best model 0.85\n",
            "EPOCH 2\n",
            "=================================\n",
            "Training Results\n",
            "{'acc': 0.8988838502618209, 'precision': 0.913026810743465, 'recall': 0.9017487399133912, 'f1': 0.9073527310824325}\n",
            "Validation Results\n",
            "{'acc': 0.8727064220183486, 'precision': 0.8936170212765957, 'recall': 0.8513513513513513, 'f1': 0.8719723183391003}\n",
            "New best model 0.87\n",
            "Final result\n",
            "{'acc': 0.8841295991213619, 'precision': 0.8939051918735892, 'recall': 0.8712871287128713, 'f1': 0.8824512534818942}\n"
          ],
          "name": "stdout"
        },
        {
          "output_type": "execute_result",
          "data": {
            "text/plain": [
              "0.8841295991213619"
            ]
          },
          "metadata": {
            "tags": []
          },
          "execution_count": 74
        }
      ]
    },
    {
      "cell_type": "markdown",
      "metadata": {
        "id": "NpfM53E-lS9y",
        "colab_type": "text"
      },
      "source": [
        "#### A quick note about these models on this data\n",
        "\n",
        "Both of these models are surprisingly strong baselines and do fairly well on this dataset averaged over many runs.  Even with only 2 epochs of data it is quite common to see scores higher than in the Kim 2014 paper."
      ]
    },
    {
      "cell_type": "markdown",
      "metadata": {
        "id": "O4mLnxyIlM4u",
        "colab_type": "text"
      },
      "source": [
        "## Conclusions\n",
        "\n",
        "### Its not hard to get good performance with a Deep Learning model for Text Classification\n",
        "\n",
        "We saw above how to get good results on the SST-2 dataset using fairly simple deep learning models, even with very few training epochs.  This behavior is not limited to a single dataset -- these results have been shown over and over.  Also, using PyTorch, we were able to code an entire pipeline in this minimalistic notebook.\n",
        "\n",
        "### Pre-trained embeddings often help\n",
        "\n",
        "We can see that pre-trained embeddings can have a massive impact on the performance of our models, especially for smaller datasets.  The `word2vec` algorithm caused an explosion in the NLP community -- even though pre-training embeddings had been widely studied prior to that work, the results were reliable and fast.  `GloVe` and `fastText` embeddings came shortly thereafter, and all 3 models are in quite common use today.  The code above can load any of these flavors of embeddings and incorporate them into downstream models for large improvements.\n",
        "\n",
        "For large datasets, like those used in Language Modeling and Neural Machine Translation, models are typically trained from random embeddings, which are sufficient in those cases.\n",
        "\n",
        "### Incorporating pre-trained embeddings into your model is simple\n",
        "\n",
        "The file formats are very simple to read and can be incorporated with only a few lines of code.  In some cases, memory-mapping the file can increase the loading speed.  This is implemented in [Baseline](https://github.com/dpressel/baseline/)\n",
        "\n"
      ]
    }
  ]
}